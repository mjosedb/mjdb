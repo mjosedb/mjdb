{
  "metadata": {
    "language_info": {
      "codemirror_mode": {
        "name": "python",
        "version": 3
      },
      "file_extension": ".py",
      "mimetype": "text/x-python",
      "name": "python",
      "nbconvert_exporter": "python",
      "pygments_lexer": "ipython3",
      "version": "3.8"
    },
    "kernelspec": {
      "name": "python",
      "display_name": "Pyolite",
      "language": "python"
    }
  },
  "nbformat_minor": 4,
  "nbformat": 4,
  "cells": [
    {
      "cell_type": "markdown",
      "source": "# My Jupyter Notebook on IBM Watson Studio",
      "metadata": {}
    },
    {
      "cell_type": "markdown",
      "source": "**Ma Jose Domenech**\n\nTelecom Engineer",
      "metadata": {}
    },
    {
      "cell_type": "markdown",
      "source": "_I am interested in data science because in my work we need to process very big qunatities of data where root cause analysis may depend on a high variety of parameters_",
      "metadata": {}
    },
    {
      "cell_type": "markdown",
      "source": "### The following code sets variable X to 1, then adds 1 to the variable. The sum result is then printed",
      "metadata": {}
    },
    {
      "cell_type": "code",
      "source": "X = 1\nX = X + 1\nprint(\"the value of X is\", X)",
      "metadata": {
        "trusted": true
      },
      "execution_count": 9,
      "outputs": [
        {
          "name": "stdout",
          "text": "the value of X is 2\n",
          "output_type": "stream"
        }
      ]
    },
    {
      "cell_type": "markdown",
      "source": "1. First item: hyperlink \n\n<a href=\"https://wikipedia.org\">Link to the wikipedia</a> \n\n---\n\n2. Second item: table\n\n| column1 | column2 | column3 |\n| ------- |:-------:| -------:|\n| cell11 | cell12 | cell13 |\n| cell21 | cell22 | cell23 |\n\n\n---\n\n+ Unordered item.\n> Using Watson Studio you can simplify your data projects with a streamlined process, that allows you to extract value and insights from your data to help your business get smarter, faster. \n\n--- \n\n~~I don't know if I should write this.~~",
      "metadata": {}
    },
    {
      "cell_type": "code",
      "source": "",
      "metadata": {},
      "execution_count": null,
      "outputs": []
    }
  ]
}