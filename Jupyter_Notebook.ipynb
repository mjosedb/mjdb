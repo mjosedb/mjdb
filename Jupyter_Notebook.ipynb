{
 "cells": [
  {
   "cell_type": "markdown",
   "metadata": {},
   "source": [
    "<center>\n",
    "    <img src=\"https://s3-api.us-geo.objectstorage.softlayer.net/cf-courses-data/CognitiveClass/Logos/organization_logo/organization_logo.png\" width=\"300\" alt=\"cognitiveclass.ai logo\"  />\n",
    "</center>\n"
   ]
  },
  {
   "cell_type": "markdown",
   "metadata": {},
   "source": [
    "#### Add your code below following the instructions given in the course\n"
   ]
  },
  {
   "cell_type": "markdown",
   "metadata": {},
   "source": [
    "# My Jupyter Notebook on IBM Watson Studio"
   ]
  },
  {
   "cell_type": "markdown",
   "metadata": {},
   "source": [
    "**Ma Jose Domenech**\n",
    "\n",
    "Telecom Engineer"
   ]
  },
  {
   "cell_type": "markdown",
   "metadata": {},
   "source": [
    "_I am interested in data science because in my work we need to process very big qunatities of data where root cause analysis may depend on a high variety of parameters_"
   ]
  },
  {
   "cell_type": "markdown",
   "metadata": {},
   "source": [
    "### The following code sets variable X to 1, then adds 1 to the variable. The sum result is then printed"
   ]
  },
  {
   "cell_type": "code",
   "execution_count": 2,
   "metadata": {},
   "outputs": [
    {
     "name": "stdout",
     "output_type": "stream",
     "text": [
      "the value of X is 2\n"
     ]
    }
   ],
   "source": [
    "X = 1\n",
    "X = X + 1\n",
    "print(\"the value of X is\", X)"
   ]
  },
  {
   "cell_type": "markdown",
   "metadata": {},
   "source": [
    "1. First item: hyperlink \n",
    "​\n",
    "<a href=\"https://wikipedia.org\">Link to the wikipedia</a> \n",
    "​\n",
    "---\n",
    "​\n",
    "2. Second item: table\n",
    "​\n",
    "| column1 | column2 | column3 |\n",
    "| ------- |:-------:| -------:|\n",
    "| cell11 | cell12 | cell13 |\n",
    "| cell21 | cell22 | cell23 |\n",
    "​\n",
    "​\n",
    "---\n",
    "​\n",
    "+ Unordered item.\n",
    "> Using Watson Studio you can simplify your data projects with a streamlined process, that allows you to extract value and insights from your data to help your business get smarter, faster. \n",
    "​\n",
    "--- \n",
    "​\n",
    "~~I don't know if I should write this.~~\n",
    "​"
   ]
  },
  {
   "cell_type": "code",
   "execution_count": null,
   "metadata": {},
   "outputs": [],
   "source": []
  }
 ],
 "metadata": {
  "kernelspec": {
   "display_name": "Python",
   "language": "python",
   "name": "conda-env-python-py"
  },
  "language_info": {
   "codemirror_mode": {
    "name": "ipython",
    "version": 3
   },
   "file_extension": ".py",
   "mimetype": "text/x-python",
   "name": "python",
   "nbconvert_exporter": "python",
   "pygments_lexer": "ipython3",
   "version": "3.7.12"
  }
 },
 "nbformat": 4,
 "nbformat_minor": 4
}
